{
 "cells": [
  {
   "cell_type": "markdown",
   "metadata": {},
   "source": [
    "### 숫자의 합 구하기"
   ]
  },
  {
   "cell_type": "code",
   "execution_count": 26,
   "metadata": {},
   "outputs": [
    {
     "name": "stdout",
     "output_type": "stream",
     "text": [
      "02\n"
     ]
    }
   ],
   "source": [
    "n = int(input())\n",
    "f = int(input())\n",
    "\n",
    "n = (n//100)*100\n",
    "for k in range(100):\n",
    "    if (n+k)%f == 0:\n",
    "        answer = k\n",
    "        break\n",
    "\n",
    "print(\"%02d\" % k)"
   ]
  },
  {
   "cell_type": "code",
   "execution_count": null,
   "metadata": {},
   "outputs": [],
   "source": [
    "# 색 이름과 해당 저항 값을 매핑하는 해시 맵 생성\n",
    "resistor_colors = {\n",
    "    'black': 0,\n",
    "    'brown': 1,\n",
    "    'red': 2,\n",
    "    'orange': 3,\n",
    "    'yellow': 4,\n",
    "    'green': 5,\n",
    "    'blue': 6,\n",
    "    'violet': 7,\n",
    "    'grey': 8,\n",
    "    'white': 9\n",
    "}\n",
    "\n",
    "str1 = input()\n",
    "str2 = input()\n",
    "str3 = input()\n",
    "\n",
    "answer = (resistor_colors[str1]*10 + resistor_colors[str2])*(10**resistor_colors[str3])\n",
    "print(answer)"
   ]
  }
 ],
 "metadata": {
  "kernelspec": {
   "display_name": "Python 3",
   "language": "python",
   "name": "python3"
  },
  "language_info": {
   "codemirror_mode": {
    "name": "ipython",
    "version": 3
   },
   "file_extension": ".py",
   "mimetype": "text/x-python",
   "name": "python",
   "nbconvert_exporter": "python",
   "pygments_lexer": "ipython3",
   "version": "3.12.2"
  }
 },
 "nbformat": 4,
 "nbformat_minor": 2
}
