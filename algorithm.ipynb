{
 "cells": [
  {
   "cell_type": "markdown",
   "metadata": {},
   "source": [
    "### 숫자의 합 구하기"
   ]
  },
  {
   "cell_type": "code",
   "execution_count": null,
   "metadata": {},
   "outputs": [],
   "source": [
    "n = int(input())\n",
    "number_str = input()\n",
    "\n",
    "tot = 0\n",
    "for char in number_str:\n",
    "    tot += int(char)\n",
    "\n",
    "print(tot)"
   ]
  },
  {
   "cell_type": "markdown",
   "metadata": {},
   "source": [
    "### 구간 합 구하기"
   ]
  },
  {
   "cell_type": "code",
   "execution_count": null,
   "metadata": {},
   "outputs": [],
   "source": [
    "import random\n",
    "\n",
    "suNo, quizNo  = map(int, input().split())\n",
    "\n",
    "number_list = [random.randint(1,1000) for i in range(suNo)]\n",
    "partial_sum = [0]\n",
    "temp = 0\n",
    "\n",
    "for i in number_list:\n",
    "    temp += i\n",
    "    partial_sum.append(temp)\n",
    "\n",
    "for i in range(quizNo):\n",
    "    start = random.randint(1,suNo)\n",
    "    end = start + random.randint(0,)\n",
    "    # start, end = map(int, input().split())\n",
    "    print(partial_sum[end] - partial_sum[start-1])\n"
   ]
  },
  {
   "cell_type": "markdown",
   "metadata": {},
   "source": [
    "### 연속된 자연수의 합(투포인터)"
   ]
  },
  {
   "cell_type": "code",
   "execution_count": null,
   "metadata": {},
   "outputs": [],
   "source": [
    "def part_sum_conut(n):\n",
    "    k = 0\n",
    "    count = 0\n",
    "    \n",
    "    while True:\n",
    "        k += 1\n",
    "        start_tot = k*(k+1)//2\n",
    "        if start_tot > n:\n",
    "            break\n",
    "        if (n - start_tot)%k == 0:\n",
    "            count += 1\n",
    "    return count"
   ]
  },
  {
   "cell_type": "code",
   "execution_count": null,
   "metadata": {},
   "outputs": [],
   "source": [
    "primes = \"\"\"2\t3\t5\t7\t11\t13\t17\t19\t23\t29\t31\t37\t41\t43\t47\t53\t59\t61\t67\t71\n",
    "73\t79\t83\t89\t97\t101\t103\t107\t109\t113\t127\t131\t137\t139\t149\t151\t157\t163\t167\t173\"\"\".split()\n",
    "\n",
    "for i in map(int, primes):\n",
    "    print(part_sum_conut(i), end=' ')"
   ]
  },
  {
   "cell_type": "code",
   "execution_count": null,
   "metadata": {},
   "outputs": [],
   "source": [
    "n = int(input())\n",
    "\n",
    "tot = 0\n",
    "a = 1\n",
    "b = 1\n",
    "count = 0\n",
    "\n",
    "while True:\n",
    "    if tot < n:\n",
    "        tot += b\n",
    "        b += 1\n",
    "    else:\n",
    "        tot -= a\n",
    "        a += 1\n",
    "    \n",
    "    if tot == n:\n",
    "        count += 1\n",
    "    # print(a,b,tot,count)\n",
    "    if a==n:\n",
    "        break\n",
    "\n",
    "print(count)"
   ]
  },
  {
   "cell_type": "markdown",
   "metadata": {},
   "source": [
    "### 좋은 수 구하기(투 포인터)"
   ]
  },
  {
   "cell_type": "code",
   "execution_count": null,
   "metadata": {},
   "outputs": [],
   "source": [
    "# n = int(input())\n",
    "n = 10\n",
    "answer = 0\n",
    "\n",
    "# num_list = [int(i) for i in input().split()]\n",
    "num_list = [int(i) for i in \"1 2 3 4 5 6 7 8 9 10\".split()]\n",
    "num_list.sort()\n",
    "\n",
    "for i in range(len(num_list)):\n",
    "    target = num_list[i]\n",
    "    start = 0\n",
    "    end = i-1\n",
    "    \n",
    "    while start < end:\n",
    "        if num_list[start] + num_list[end] == target:\n",
    "            print(target)\n",
    "            answer += 1\n",
    "            break\n",
    "        elif num_list[start] + num_list[end] > target:\n",
    "            end -= 1\n",
    "        else:\n",
    "            start += 1\n",
    "            \n",
    "print(answer)"
   ]
  },
  {
   "cell_type": "markdown",
   "metadata": {},
   "source": [
    "### 스택 수열(스택)"
   ]
  },
  {
   "cell_type": "code",
   "execution_count": null,
   "metadata": {},
   "outputs": [],
   "source": [
    "n = 8\n",
    "A = [4,3,6,8,7,5,2,1]\n",
    "\n",
    "stack = []\n",
    "result = True\n",
    "num = 1\n",
    "answer = \"\"\n",
    "\n",
    "for i in range(n):\n",
    "    su = A[i]\n",
    "    if su >= num:\n",
    "        while su >= num:\n",
    "            stack.append(num)\n",
    "            num += 1\n",
    "            answer += \"+\\n\"\n",
    "        stack.pop()\n",
    "        answer += \"-\\n\"\n",
    "    else:\n",
    "        n = stack.pop()\n",
    "        if n > su:\n",
    "            print(\"NO\")\n",
    "            result = False\n",
    "            break\n",
    "        answer += \"-\\n\"\n",
    "        \n",
    "    # print(f'{num=}, {stack=}')\n",
    "\n",
    "if result:\n",
    "    print(answer)"
   ]
  },
  {
   "cell_type": "code",
   "execution_count": null,
   "metadata": {},
   "outputs": [],
   "source": [
    "n = int(input())\n",
    "A = []\n",
    "\n",
    "for i in range(n):\n",
    "    A.append(int(input()))\n",
    "    \n",
    "B = [0]\n",
    "TF = '-'\n",
    "answer = []\n",
    "\n",
    "for i in range(4*n):\n",
    "    if A and TF == '-':\n",
    "        if A[-1] > B[-1]:\n",
    "            B.append(A.pop(-1))\n",
    "            answer.append(TF)\n",
    "        else:\n",
    "            TF = '+'\n",
    "    elif TF == '+':\n",
    "        if B[-1] == n:\n",
    "            B.pop()\n",
    "            n -= 1\n",
    "            answer.append(TF)\n",
    "        else:\n",
    "            TF = '-'\n",
    "        if not A:\n",
    "            break\n",
    "for i in range(n):\n",
    "    answer.append('+')\n",
    "\n",
    "if not A:\n",
    "    for i in answer[::-1]:\n",
    "        print(i)\n",
    "else:\n",
    "    print('NO')"
   ]
  },
  {
   "cell_type": "markdown",
   "metadata": {},
   "source": [
    "### 카드 게임(큐)"
   ]
  },
  {
   "cell_type": "code",
   "execution_count": null,
   "metadata": {},
   "outputs": [],
   "source": [
    "from collections import deque\n",
    "\n",
    "# n = int(input())\n",
    "n = 20\n",
    "\n",
    "def last_card(n):\n",
    "    cards = deque([i for i in range(1,n+1)])\n",
    "\n",
    "    while n > 1:\n",
    "        cards.popleft()\n",
    "        cards.rotate(-1)\n",
    "        n -= 1\n",
    "        \n",
    "    return cards[0]\n",
    "\n",
    "print(last_card(n))"
   ]
  },
  {
   "cell_type": "markdown",
   "metadata": {},
   "source": [
    "### 버블 정렬"
   ]
  },
  {
   "cell_type": "code",
   "execution_count": null,
   "metadata": {},
   "outputs": [],
   "source": [
    "numList = [40,70,60,30,10,50]\n",
    "\n",
    "size = len(numList)\n",
    "\n",
    "for i in range(size-1,0,-1):\n",
    "    for j in range(i):\n",
    "        if numList[j] > numList[j+1]:\n",
    "            numList[j], numList[j+1] = numList[j+1], numList[j]\n",
    "            \n",
    "print(numList)"
   ]
  },
  {
   "cell_type": "markdown",
   "metadata": {},
   "source": [
    "### 선택 정렬"
   ]
  },
  {
   "cell_type": "code",
   "execution_count": null,
   "metadata": {},
   "outputs": [],
   "source": [
    "from random import randint\n",
    "\n",
    "numList = [40,70,60,30,10,50]\n",
    "\n",
    "print(0, numList)\n",
    "\n",
    "size = len(numList)\n",
    "for i in range(0,size-1):\n",
    "    small_idx = i\n",
    "    for j in range(i+1,size):\n",
    "        if numList[small_idx] > numList[j]:\n",
    "            small_idx = j\n",
    "    \n",
    "    numList[i], numList[small_idx] = numList[small_idx], numList[i]\n",
    "    \n",
    "    print(i+1, numList)"
   ]
  },
  {
   "cell_type": "markdown",
   "metadata": {},
   "source": [
    "### 삽입정렬"
   ]
  },
  {
   "cell_type": "code",
   "execution_count": null,
   "metadata": {},
   "outputs": [],
   "source": [
    "numList = [40,70,60,30,10,50]\n",
    "\n",
    "size = len(numList)\n",
    "for i in range(1,size):\n",
    "    for j in range(i,0,-1):\n",
    "        if numList[j-1] > numList[j]:\n",
    "            numList[j-1],numList[j] = numList[j], numList[j-1]\n",
    "            \n",
    "print(numList)"
   ]
  },
  {
   "cell_type": "markdown",
   "metadata": {},
   "source": [
    "### 힙정렬"
   ]
  },
  {
   "cell_type": "code",
   "execution_count": null,
   "metadata": {},
   "outputs": [],
   "source": [
    "# 최대 힙을 생성하는 함수\n",
    "def big_heap(a, b):\n",
    "    # 배열 a의 1번 인덱스부터 b번 인덱스까지 최대 힙을 구성\n",
    "    for i in range(1, b+1):\n",
    "        c = i\n",
    "        # 루트 노드에 도달할 때까지 부모 노드와 비교를 반복\n",
    "        while c != 0:\n",
    "            r = (c - 1) // 2  # 부모 노드의 인덱스 계산\n",
    "            # 부모 노드의 값이 현재 노드의 값보다 작은 경우 교환\n",
    "            if a[r] < a[c]:\n",
    "                a[r], a[c] = a[c], a[r]\n",
    "            c = r  # 검사 위치를 부모 노드로 이동\n",
    "\n",
    "# 힙 정렬을 수행하는 함수\n",
    "def heap_s(a:list):\n",
    "    # 배열의 마지막 원소부터 시작하여 첫 번째 원소까지 반복\n",
    "    for i in range(len(a)-1, 0, -1):\n",
    "        big_heap(a, i)  # 최대 힙을 구성\n",
    "        a[0], a[i] = a[i], a[0]  # 최대값(루트 노드)을 배열의 끝으로 이동\n",
    "\n",
    "# 정렬할 배열\n",
    "arr = [40, 70, 60, 30, 10, 50, 90, 80, 20]\n",
    "\n",
    "heap_s(arr)  # 힙 정렬 수행\n",
    "\n",
    "print(arr)  # 정렬된 배열 출력\n"
   ]
  },
  {
   "cell_type": "markdown",
   "metadata": {},
   "source": [
    "### DFS"
   ]
  },
  {
   "cell_type": "code",
   "execution_count": null,
   "metadata": {},
   "outputs": [],
   "source": [
    "tree = ['A', 'B', 'C', 'D', 'E', 'F', 'G']\n",
    "visited = [False]*len(tree)\n",
    "answer = \"\"\n",
    "\n",
    "def DFS(tree, visited, idx):\n",
    "    global answer\n",
    "    if visited[idx] == False:\n",
    "        visited[idx] = True\n",
    "        answer += tree[idx]\n",
    "        if 2*idx+1 < len(tree):\n",
    "            DFS(tree, visited, 2*idx+1)\n",
    "        if 2*idx+2 < len(tree):\n",
    "            DFS(tree, visited, 2*idx+2)\n",
    "    else:\n",
    "        return\n",
    "    \n",
    "DFS(tree,visited,0)\n",
    "print(answer)"
   ]
  },
  {
   "cell_type": "code",
   "execution_count": null,
   "metadata": {},
   "outputs": [],
   "source": [
    "DFS_graph = {\n",
    "    'A': ['B', 'C'],\n",
    "    'B': ['A', 'D', 'E'],\n",
    "    'C': ['A', 'F', 'G'],\n",
    "    'D': ['B'],\n",
    "    'E': ['B'],\n",
    "    'F': ['C'],\n",
    "    'G': ['C']\n",
    "}\n",
    "\n",
    "visited_list = []\n",
    "\n",
    "def DFS(glaph:dict, start:str):\n",
    "    visited_list.append(start)\n",
    "    for node in glaph[start]:\n",
    "        if node not in visited_list:\n",
    "            DFS(glaph,node)\n",
    "            \n",
    "DFS(DFS_graph,'A')\n",
    "print(visited_list)"
   ]
  },
  {
   "cell_type": "code",
   "execution_count": null,
   "metadata": {},
   "outputs": [],
   "source": [
    "from collections import deque\n",
    "\n",
    "BFS_graph = {\n",
    "    'A': ['B', 'C'],\n",
    "    'B': ['A', 'D', 'E'],\n",
    "    'C': ['A', 'F', 'G'],\n",
    "    'D': ['B'],\n",
    "    'E': ['B'],\n",
    "    'F': ['C'],\n",
    "    'G': ['C']\n",
    "}\n",
    "\n",
    "visited_list = []\n",
    "\n",
    "def BFS(glaph:dict, start:str):\n",
    "    wating_que = deque([start]) \n",
    "    \n",
    "    while wating_que:\n",
    "        print(f\"{visited_list=}\\t\")\n",
    "        print(f\"{wating_que=}\")\n",
    "        print()\n",
    "        node = wating_que.popleft()\n",
    "        if node not in visited_list:\n",
    "            visited_list.append(node)\n",
    "            \n",
    "            wating_que.extend(glaph[node])\n",
    "            \n",
    "BFS(BFS_graph,'A')\n",
    "print(visited_list)"
   ]
  },
  {
   "cell_type": "markdown",
   "metadata": {},
   "source": [
    "### 동전 거스름돈"
   ]
  },
  {
   "cell_type": "code",
   "execution_count": null,
   "metadata": {},
   "outputs": [],
   "source": [
    "coins = [50000,10000,5000,1000,500,100,50,10]\n",
    "cost = int(input())\n",
    "\n",
    "coin_count = {}\n",
    "\n",
    "for coin in coins:\n",
    "    count = cost//coin\n",
    "    cost %= coin\n",
    "    print(f\"{coin}원의 개수 : {count}\")\n",
    "    print(f\"{coin}을 뺀 남은 액수 : {cost}\")\n",
    "    print()\n",
    "    coin_count[coin] = count\n",
    "\n",
    "print(f\"거스름돈은 {coin_count}개 지불하면 됩니다.\")"
   ]
  },
  {
   "cell_type": "markdown",
   "metadata": {},
   "source": [
    "### 입력한 수 부터 30까지 홀짝 출력"
   ]
  },
  {
   "cell_type": "code",
   "execution_count": null,
   "metadata": {},
   "outputs": [],
   "source": [
    "while True:\n",
    "    n = int(input(\"시작할 수 입력 : \"))\n",
    "    if n>30:\n",
    "        print(\"시작할 수는 30이하여야 합니다.\")\n",
    "    else: break\n",
    "\n",
    "while n<=30:\n",
    "    if n == 28:\n",
    "        print(\"28은/는 중단하고자 했던 28입니다.\")\n",
    "        break\n",
    "    if n%2 == 1:\n",
    "        print(\"%d은/는 홀수\"%n)\n",
    "    else:\n",
    "        print(\"%d은/는 짝수\"%n)\n",
    "    n += 1"
   ]
  },
  {
   "cell_type": "markdown",
   "metadata": {},
   "source": [
    "### 성적 통계"
   ]
  },
  {
   "cell_type": "code",
   "execution_count": null,
   "metadata": {},
   "outputs": [],
   "source": [
    "def maxfunc(list):\n",
    "    max_num = 0\n",
    "    for num in list:\n",
    "        if num > max_num:\n",
    "            max_num = num\n",
    "    return max_num\n",
    "\n",
    "def minfunc(list):\n",
    "    min_num = float(\"inf\")\n",
    "    for num in list:\n",
    "        if num < min_num:\n",
    "            min_num = num\n",
    "    return min_num\n",
    "\n",
    "def avgfunc(list):\n",
    "    sum = 0\n",
    "    for num in list:\n",
    "        sum += num\n",
    "    avg_num = sum/len(list)\n",
    "    return avg_num\n",
    "\n",
    "# score_list = []\n",
    "\n",
    "# for i in range(5):\n",
    "#     score = int(input(\"점수를 입력하세요 : \"))\n",
    "#     score_list.append(score)\n",
    "\n",
    "score_list = [80,96,57,62,41]\n",
    "    \n",
    "print(\"5명의 성적은 {}입니다\".format(score_list))\n",
    "\n",
    "while True:\n",
    "    print(\"검색하고 싶은 내용을 선택하세요\")\n",
    "    select = input(\"| 0:종료 | 1:최고 | 2:최저점 | 3:평균 |\")\n",
    "    \n",
    "    if select == '0':\n",
    "        print(\"프로그램을 종료합니다.\")\n",
    "        break\n",
    "    elif select == '1':\n",
    "        print(f\"최고점은 {maxfunc(score_list)} 입니다.\")\n",
    "    elif select == '2':\n",
    "        print(f\"최고점은 {minfunc(score_list)} 입니다.\")\n",
    "    elif select == '3':\n",
    "        print(f\"평균 점수는 {avgfunc(score_list)}입니다.\")\n",
    "    else:\n",
    "        print(\"잘못 입력했습니다.\")\n",
    "        \n"
   ]
  },
  {
   "cell_type": "markdown",
   "metadata": {},
   "source": [
    "### 회문찾기"
   ]
  },
  {
   "cell_type": "code",
   "execution_count": null,
   "metadata": {},
   "outputs": [],
   "source": [
    "def palindrome(String):\n",
    "\n",
    "    String = \"\".join(String.split())\n",
    "    \n",
    "    que = list(String)\n",
    "    stack = list(String)\n",
    "\n",
    "    for i in range(len(String)):\n",
    "        if que[i] != stack.pop():\n",
    "            return False\n",
    "    else:\n",
    "        return True\n",
    "\n",
    "while True:\n",
    "    input_str = input(\"회문인지 알아볼 단어를 입력하세요 : \")\n",
    "    if input_str == \"quit\":\n",
    "        break\n",
    "    print(input_str + \"은/는 회문인가요?\",palindrome(input_str))\n",
    "    "
   ]
  },
  {
   "cell_type": "code",
   "execution_count": null,
   "metadata": {},
   "outputs": [],
   "source": [
    "def palindrome(String):\n",
    "    \n",
    "    String = String.lower()\n",
    "    String = \"\".join(String.split())\n",
    "\n",
    "    for i in range(len(String)):\n",
    "        if String[i] != String[-1-i]:\n",
    "            return False\n",
    "    else:\n",
    "        return True\n",
    "\n",
    "print(palindrome(\"WOW\"))\n",
    "print(palindrome(\"MADAM\"))\n",
    "print(palindrome(\"기러기\"))\n",
    "print(palindrome(\"내 아내\"))\n",
    "print(palindrome(\"소주 주소\"))\n",
    "print(palindrome(\"토마스\"))\n",
    "\n"
   ]
  },
  {
   "cell_type": "code",
   "execution_count": null,
   "metadata": {},
   "outputs": [],
   "source": [
    "def palindrome(String):\n",
    "    String = String.lower()\n",
    "    String = \"\".join(String.split())\n",
    "    return True if String == String[::-1] else False\n",
    "\n",
    "print(palindrome(\"WOW\"))\n",
    "print(palindrome(\"MADAM\"))\n",
    "print(palindrome(\"기러기\"))\n",
    "print(palindrome(\"내 아내\"))\n",
    "print(palindrome(\"소주 주소\"))\n",
    "print(palindrome(\"토마스\"))\n",
    "\n",
    "# while True:\n",
    "#     input_str = input(\"회문인지 알아볼 단어를 입력하세요 : \")\n",
    "#     if input_str == \"quit\":\n",
    "#         break\n",
    "#     print(input_str + \"은/는 회문인가요?\",palindrome(input_str))\n",
    "    "
   ]
  },
  {
   "cell_type": "markdown",
   "metadata": {},
   "source": [
    "### 괄호 스택"
   ]
  },
  {
   "cell_type": "code",
   "execution_count": null,
   "metadata": {},
   "outputs": [],
   "source": [
    "\n",
    "print(\"괄호가 포함된 문장을 입력하세요\")\n",
    "str1 = \"(((())(())()(()())())(())))))\"\n",
    "\n",
    "def fn(string:str):\n",
    "    stack = []\n",
    "    for char in str1:\n",
    "        # 여는 괄호 처리\n",
    "        if char == \"(\":\n",
    "            stack.append(\"(\")\n",
    "        # 닫는 괄호 처리\n",
    "        elif char == \")\":\n",
    "            try:\n",
    "                stack.pop()\n",
    "            except:\n",
    "                print(\"error\")\n",
    "                return\n",
    "            \n",
    "    if len(stack) == 0:\n",
    "        print(\"OK\")\n",
    "    else:\n",
    "        print(\"error\")\n",
    "        \n",
    "fn(str1)"
   ]
  },
  {
   "cell_type": "markdown",
   "metadata": {},
   "source": [
    "### 선형검색"
   ]
  },
  {
   "cell_type": "code",
   "execution_count": null,
   "metadata": {},
   "outputs": [],
   "source": [
    "LSearch_list = [12,10,27,51,7,96]\n",
    "\n",
    "i=0\n",
    "\n",
    "# search = int(input(\"니가 찾으려는 거 입력\"))\n",
    "search = 51\n",
    "\n",
    "while i<len(LSearch_list):\n",
    "    if LSearch_list[i]==search:\n",
    "        print(i)\n",
    "        break\n",
    "    else:\n",
    "        i += 1\n",
    "else:\n",
    "    print(\"찾으려는 숫자가 없음\")\n"
   ]
  },
  {
   "cell_type": "code",
   "execution_count": null,
   "metadata": {},
   "outputs": [],
   "source": [
    "LSearch_list = [12,10,27,51,7,96]\n",
    "\n",
    "i=0\n",
    "\n",
    "search = int(input(\"니가 찾으려는 거 입력\"))\n",
    "# search = 51\n",
    "\n",
    "for i in range(len(LSearch_list)):\n",
    "    if LSearch_list[i]==search:\n",
    "        print(i)\n",
    "        break\n",
    "else:\n",
    "    print(\"찾으려는 숫자가 없음\")"
   ]
  },
  {
   "cell_type": "code",
   "execution_count": null,
   "metadata": {},
   "outputs": [],
   "source": [
    "LSearch_list = [int(input(\"리스트에 넣을 수를 입력하세요 : \")) for _ in range(5)]\n",
    "\n",
    "search = int(input(\"니가 찾으려는 거 입력\"))\n",
    "\n",
    "for idx in range(len(LSearch_list)):\n",
    "    print(f\"index {idx}: \", LSearch_list[idx])\n",
    "    if LSearch_list[idx]==search:\n",
    "        print(f\"인덱스 {idx}에서 발견됨\")\n",
    "        break\n",
    "else:\n",
    "    print(\"찾으려는 숫자가 없음\")"
   ]
  },
  {
   "cell_type": "markdown",
   "metadata": {},
   "source": [
    "### 이진탐색"
   ]
  },
  {
   "cell_type": "code",
   "execution_count": null,
   "metadata": {},
   "outputs": [],
   "source": [
    "BSearch_list = [7,10,12,25,27,96,1004]\n",
    "\n",
    "search = 12\n",
    "\n",
    "low,high = 0, len(BSearch_list)-1\n",
    "count = 0\n",
    "\n",
    "while low<=high:\n",
    "    middle = (low+high)//2\n",
    "    middle_value = BSearch_list[middle]\n",
    "    \n",
    "    count += 1\n",
    "    \n",
    "    if middle_value==search:\n",
    "        print(f\"찾으려는 값 : {search}\")\n",
    "        print(f\"찾아낸 인덱스 : {middle}\")\n",
    "        print(f\"탐색 횟수 : {count}\")\n",
    "        break\n",
    "    elif search < middle_value:\n",
    "        high = middle - 1\n",
    "    \n",
    "    else:\n",
    "        low = middle + 1\n",
    "        \n",
    "\n"
   ]
  },
  {
   "cell_type": "markdown",
   "metadata": {},
   "source": [
    "### 선택 정렬"
   ]
  },
  {
   "cell_type": "code",
   "execution_count": null,
   "metadata": {},
   "outputs": [],
   "source": [
    "def fn(arr):\n",
    "    print(f\"초기 값 : {arr}\")\n",
    "    for i in range(len(arr)-1):\n",
    "        min_idx = i\n",
    "        print()\n",
    "        print(f\"바꾸려는 값 : {arr[min_idx]}\")\n",
    "        for j in range(min_idx+1,len(arr)):\n",
    "            if arr[j] < arr[min_idx]:\n",
    "                min_idx = j\n",
    "        arr[i], arr[min_idx] = arr[min_idx], arr[i]\n",
    "        print(f\"배열의 최소값 {arr[i]}의 위치 {min_idx}와 변경\")\n",
    "        print(f\"교환 후 : {arr}\")\n",
    "    \n",
    "arr = [40,70,60,30,10,50]\n",
    "fn(arr)"
   ]
  },
  {
   "cell_type": "markdown",
   "metadata": {},
   "source": [
    "### 버블정렬"
   ]
  },
  {
   "cell_type": "code",
   "execution_count": null,
   "metadata": {},
   "outputs": [],
   "source": [
    "arr = [\"다\", \"나\", \"마\", \"가\", \"사\", \"바\", \"라\"]\n",
    "print(f'정렬 전: {arr}')  # 정렬 전 리스트\n",
    "print('=' * 50)\n",
    "\n",
    "for i in range(len(arr) - 1, 0, -1):  # 정렬 후 반복 과정을 1씩 줄임\n",
    "    for j in range(i):  # 두 수를 비교해서 자리 교환\n",
    "        if arr[j] > arr[j + 1]:\n",
    "            arr[j], arr[j + 1] = arr[j + 1], arr[j]\n",
    "            print(f'리스트에서 서로 이웃한 현재 값 중 작은 값인 \"{arr[j]}\"의 인덱스[{j + 1}]의 위치를 변경하면')\n",
    "            print(f'[단계별 교환 후 정렬 과정 :{arr}')  # 단계별 정렬 과정 값 출력\n",
    "        else:\n",
    "            print(f'[단계별 교환 후 정렬 과정 :[{arr[j]}]와 [{arr[j + 1]}]의 값 크기가 변동없음')\n",
    "        print()\n",
    "\n",
    "print('+' * 50)\n",
    "print(f'정렬 후: {arr}')  # 단계별 정렬 후 리스트 출력\n"
   ]
  },
  {
   "cell_type": "code",
   "execution_count": 49,
   "metadata": {},
   "outputs": [
    {
     "name": "stdout",
     "output_type": "stream",
     "text": [
      "정렬 전: [39, 21, 16, 49, 14, 83]\n",
      "==================================================\n",
      "리스트에서 서로 이웃한 현재 값 중 작은 값인 \"21\"의 인덱스[1]의 위치를 변경하면\n",
      "[단계별 교환 후 정렬 과정 :[21, 39, 16, 49, 14, 83]\n",
      "\n",
      "리스트에서 서로 이웃한 현재 값 중 작은 값인 \"16\"의 인덱스[2]의 위치를 변경하면\n",
      "[단계별 교환 후 정렬 과정 :[21, 16, 39, 49, 14, 83]\n",
      "\n",
      "[단계별 교환 후 정렬 과정 :[39]와 [49]의 값 크기가 변동없음\n",
      "\n",
      "리스트에서 서로 이웃한 현재 값 중 작은 값인 \"14\"의 인덱스[4]의 위치를 변경하면\n",
      "[단계별 교환 후 정렬 과정 :[21, 16, 39, 14, 49, 83]\n",
      "\n",
      "[단계별 교환 후 정렬 과정 :[49]와 [83]의 값 크기가 변동없음\n",
      "\n",
      "리스트에서 서로 이웃한 현재 값 중 작은 값인 \"16\"의 인덱스[1]의 위치를 변경하면\n",
      "[단계별 교환 후 정렬 과정 :[16, 21, 39, 14, 49, 83]\n",
      "\n",
      "[단계별 교환 후 정렬 과정 :[21]와 [39]의 값 크기가 변동없음\n",
      "\n",
      "리스트에서 서로 이웃한 현재 값 중 작은 값인 \"14\"의 인덱스[3]의 위치를 변경하면\n",
      "[단계별 교환 후 정렬 과정 :[16, 21, 14, 39, 49, 83]\n",
      "\n",
      "[단계별 교환 후 정렬 과정 :[39]와 [49]의 값 크기가 변동없음\n",
      "\n",
      "[단계별 교환 후 정렬 과정 :[16]와 [21]의 값 크기가 변동없음\n",
      "\n",
      "리스트에서 서로 이웃한 현재 값 중 작은 값인 \"14\"의 인덱스[2]의 위치를 변경하면\n",
      "[단계별 교환 후 정렬 과정 :[16, 14, 21, 39, 49, 83]\n",
      "\n",
      "[단계별 교환 후 정렬 과정 :[21]와 [39]의 값 크기가 변동없음\n",
      "\n",
      "리스트에서 서로 이웃한 현재 값 중 작은 값인 \"14\"의 인덱스[1]의 위치를 변경하면\n",
      "[단계별 교환 후 정렬 과정 :[14, 16, 21, 39, 49, 83]\n",
      "\n",
      "[단계별 교환 후 정렬 과정 :[16]와 [21]의 값 크기가 변동없음\n",
      "\n",
      "[단계별 교환 후 정렬 과정 :[14]와 [16]의 값 크기가 변동없음\n",
      "\n",
      "==================================================\n",
      "정렬 후: [14, 16, 21, 39, 49, 83]\n"
     ]
    }
   ],
   "source": [
    "import random\n",
    "\n",
    "def bubble(arr):\n",
    "    print(f'정렬 전: {arr}')  # 정렬 전 리스트\n",
    "    print('=' * 50)\n",
    "\n",
    "    for i in range(len(arr) - 1, 0, -1):  # 정렬 후 반복 과정을 1씩 줄임\n",
    "        for j in range(i):  # 두 수를 비교해서 자리 교환\n",
    "            if arr[j] > arr[j + 1]:\n",
    "                arr[j], arr[j + 1] = arr[j + 1], arr[j]\n",
    "                print(f'리스트에서 서로 이웃한 현재 값 중 작은 값인 \"{arr[j]}\"의 인덱스[{j + 1}]의 위치를 변경하면')\n",
    "                print(f'[단계별 교환 후 정렬 과정 :{arr}')  # 단계별 정렬 과정 값 출력\n",
    "            else:\n",
    "                print(f'[단계별 교환 후 정렬 과정 :[{arr[j]}]와 [{arr[j + 1]}]의 값 크기가 변동없음')\n",
    "            print()\n",
    "\n",
    "    print('=' * 50)\n",
    "    print(f'정렬 후: {arr}')  # 단계별 정렬 후 리스트 출력\n",
    "\n",
    "arr = random.sample(range(1,101),6)\n",
    "bubble(arr)"
   ]
  },
  {
   "cell_type": "code",
   "execution_count": 54,
   "metadata": {},
   "outputs": [
    {
     "name": "stdout",
     "output_type": "stream",
     "text": [
      "['a']\n",
      "['a', 'b']\n",
      "['a', 'b', 'c']\n",
      "['a', 'b', 'c', 'd']\n",
      "['a', 'b', 'c', 'd', 'e']\n",
      "['a', 'b', 'c', 'd', 'e', 'f']\n",
      "['a', 'b', 'c', 'd', 'e', 'f', 'g']\n",
      "========================================\n",
      "g f e d c b a "
     ]
    }
   ],
   "source": [
    "myStr = \"abcdefg\"\n",
    "\n",
    "stack = []\n",
    "i=0\n",
    "\n",
    "for char in myStr:\n",
    "    stack.append(char)\n",
    "    print(stack)\n",
    "    \n",
    "print(\"=\"*40)    \n",
    "    \n",
    "for _ in range(len(stack)):\n",
    "    print(stack.pop(), end=' ')"
   ]
  },
  {
   "cell_type": "code",
   "execution_count": 55,
   "metadata": {},
   "outputs": [],
   "source": [
    "weeks = list(\"일월화수목금토\")\n",
    "\n",
    "pointers = [65,54,12,117,80,31,0]\n",
    "\n",
    "linked_data = zip(weeks, pointers)"
   ]
  },
  {
   "cell_type": "code",
   "execution_count": 99,
   "metadata": {},
   "outputs": [
    {
     "name": "stdout",
     "output_type": "stream",
     "text": [
      "일 월\n",
      "월 화\n",
      "화 수\n",
      "수 목\n",
      "목 금\n",
      "금 토\n",
      "토 None\n",
      "\n",
      "일\n",
      "월\n",
      "화\n",
      "수\n",
      "목\n",
      "금\n",
      "토\n",
      "None\n"
     ]
    }
   ],
   "source": [
    "class ListNode:\n",
    "    def __init__(self,val):\n",
    "        self.val = val\n",
    "        self.next = None\n",
    "    \n",
    "    def link_next(self, next_val):\n",
    "        self.next = next_val\n",
    "        \n",
    "datas = list(\"일월화수목금토\")\n",
    "datas.append(None)\n",
    "\n",
    "node_list = []\n",
    "for i in range(len(datas)):\n",
    "    node = ListNode(datas[i])\n",
    "    node_list.append(node)\n",
    "    if i > 0:\n",
    "        node_list[i-1].link_next(node)\n",
    "\n",
    "for node in node_list[:-1]:\n",
    "    print(node.val, node.next.val)\n",
    "    \n",
    "print()\n",
    "\n",
    "node = node_list[0]\n",
    "while node is not None:\n",
    "    print(node.val)\n",
    "    node = node.next"
   ]
  }
 ],
 "metadata": {
  "kernelspec": {
   "display_name": "Python 3",
   "language": "python",
   "name": "python3"
  },
  "language_info": {
   "codemirror_mode": {
    "name": "ipython",
    "version": 3
   },
   "file_extension": ".py",
   "mimetype": "text/x-python",
   "name": "python",
   "nbconvert_exporter": "python",
   "pygments_lexer": "ipython3",
   "version": "3.12.2"
  }
 },
 "nbformat": 4,
 "nbformat_minor": 2
}
